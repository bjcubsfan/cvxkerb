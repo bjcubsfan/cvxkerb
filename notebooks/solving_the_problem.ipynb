{
 "cells": [
  {
   "cell_type": "code",
   "execution_count": 37,
   "metadata": {
    "tags": []
   },
   "outputs": [],
   "source": [
    "from typing import Tuple\n",
    "\n",
    "import cvxpy as cp\n",
    "import matplotlib.pyplot as plt\n",
    "import numpy as np\n",
    "from matplotlib import cm"
   ]
  },
  {
   "cell_type": "markdown",
   "metadata": {},
   "source": [
    "# Test data"
   ]
  },
  {
   "cell_type": "code",
   "execution_count": 38,
   "metadata": {
    "jupyter": {
     "outputs_hidden": false
    }
   },
   "outputs": [],
   "source": [
    "h = 1  # discretization step in s\n",
    "g = 0.1  # gravity in m/s^2\n",
    "m = 10.0  # mass in kg\n",
    "F_max = 10.0  # maximum thrust in Newton\n",
    "p0 = np.array([50, 50, 100])  # initial position in m\n",
    "v0 = np.array([-10, 0, -10])  # initial velocity in m/s\n",
    "p_target = np.array([0, 0, 0])  # target position in m\n",
    "alpha = np.pi / 8  # glide angle in rad\n",
    "gamma = 1.0  # fuel consumption coefficient\n",
    "K = 35  # number of discretization steps"
   ]
  },
  {
   "cell_type": "markdown",
   "metadata": {},
   "source": [
    "# Formulate the optimization problem"
   ]
  },
  {
   "cell_type": "code",
   "execution_count": 49,
   "metadata": {
    "jupyter": {
     "outputs_hidden": false
    }
   },
   "outputs": [],
   "source": [
    "def optimize_fuel(\n",
    "    p_target: np.ndarray,\n",
    "    g: float,\n",
    "    m: float,\n",
    "    p0: np.ndarray,\n",
    "    v0: np.ndarray,\n",
    "    K: int,\n",
    "    h: float,\n",
    "    F_max: float,\n",
    "    alpha: float,\n",
    "    gamma: float,\n",
    "    **kwargs: dict,\n",
    ") -> Tuple[np.ndarray, np.ndarray]:\n",
    "    \"\"\"\n",
    "\n",
    "    Minimize fuel consumption for a rocket to land on a target\n",
    "\n",
    "    :param p_target: landing target in m\n",
    "    :param g: gravitational acceleration in m/s^2\n",
    "    :param m: mass in kg\n",
    "    :param p0: position in m\n",
    "    :param v0: velocity in m/s\n",
    "    :param K: Number of discretization steps\n",
    "    :param h: discretization step in s\n",
    "    :param F_max: maximum thrust of engine in kg*m/s^2 (Newton)\n",
    "    :param alpha: Glide path angle in radian\n",
    "    :param gamma: converts fuel consumption to liters of fuel consumption\n",
    "    :return: position and thrust over time\n",
    "    \"\"\"\n",
    "\n",
    "    P_min = p_target[2]\n",
    "\n",
    "    # Variables\n",
    "    V = cp.Variable((K + 1, 3))  # velocity\n",
    "    P = cp.Variable((K + 1, 3))  # position\n",
    "    F = cp.Variable((K, 3))  # thrust\n",
    "\n",
    "    # Constraints\n",
    "    # Match initial position and initial velocity\n",
    "    constraints = [P[0] == p0, V[0] == v0]\n",
    "\n",
    "    # Keep height above P_min\n",
    "    constraints += [P[:, 2] >= P_min ]\n",
    "\n",
    "    # Match final position and 0 velocity\n",
    "    constraints += [P[-1] == p_target, V[-1] == 0]\n",
    "\n",
    "    # Physics dynamics for velocity\n",
    "    # Physics dynamics for position\n",
    "    constraints += [P[1:] == P[:-1] + (h / 2) * (V[1:] + V[:-1])]\n",
    "    constraints += [V[1:, :2] == V[:-1, :2], + h * F[:, :2] / m]\n",
    "    constraints += [V[1:, 2] == V[:-1, 2] + h * F[:, 2] / m - (h * g)]\n",
    "\n",
    "    # Glide path constraint\n",
    "    # constraints += [...]  # Added later\n",
    "\n",
    "    # Maximum thrust constraint\n",
    "    constraints += [cp.norm2(F, axis=1) <= F_max]\n",
    "\n",
    "    fuel_consumption = gamma * cp.sum(cp.norm2(F, axis=1))\n",
    "\n",
    "    problem = cp.Problem(cp.Minimize(fuel_consumption), constraints)\n",
    "    problem.solve(**kwargs)\n",
    "    return P.value, F.value"
   ]
  },
  {
   "cell_type": "markdown",
   "metadata": {},
   "source": [
    "# Solve the problem"
   ]
  },
  {
   "cell_type": "code",
   "execution_count": 50,
   "metadata": {
    "jupyter": {
     "outputs_hidden": false
    }
   },
   "outputs": [
    {
     "ename": "ValueError",
     "evalue": "Problem has an invalid constraint of type <class 'cvxpy.atoms.affine.binary_operators.DivExpression'>",
     "output_type": "error",
     "traceback": [
      "\u001b[0;31m---------------------------------------------------------------------------\u001b[0m",
      "\u001b[0;31mValueError\u001b[0m                                Traceback (most recent call last)",
      "Cell \u001b[0;32mIn[50], line 1\u001b[0m\n\u001b[0;32m----> 1\u001b[0m P_star, F_star \u001b[38;5;241m=\u001b[39m \u001b[43moptimize_fuel\u001b[49m\u001b[43m(\u001b[49m\n\u001b[1;32m      2\u001b[0m \u001b[43m    \u001b[49m\u001b[43mp_target\u001b[49m\u001b[43m,\u001b[49m\u001b[43m \u001b[49m\u001b[43mg\u001b[49m\u001b[43m,\u001b[49m\u001b[43m \u001b[49m\u001b[43mm\u001b[49m\u001b[43m,\u001b[49m\u001b[43m \u001b[49m\u001b[43mp0\u001b[49m\u001b[43m,\u001b[49m\u001b[43m \u001b[49m\u001b[43mv0\u001b[49m\u001b[43m,\u001b[49m\u001b[43m \u001b[49m\u001b[43mK\u001b[49m\u001b[43m,\u001b[49m\u001b[43m \u001b[49m\u001b[43mh\u001b[49m\u001b[43m,\u001b[49m\u001b[43m \u001b[49m\u001b[43mF_max\u001b[49m\u001b[43m,\u001b[49m\u001b[43m \u001b[49m\u001b[43malpha\u001b[49m\u001b[43m,\u001b[49m\u001b[43m \u001b[49m\u001b[43mgamma\u001b[49m\n\u001b[1;32m      3\u001b[0m \u001b[43m)\u001b[49m\n",
      "Cell \u001b[0;32mIn[49], line 62\u001b[0m, in \u001b[0;36moptimize_fuel\u001b[0;34m(p_target, g, m, p0, v0, K, h, F_max, alpha, gamma, **kwargs)\u001b[0m\n\u001b[1;32m     58\u001b[0m constraints \u001b[38;5;241m+\u001b[39m\u001b[38;5;241m=\u001b[39m [cp\u001b[38;5;241m.\u001b[39mnorm2(F, axis\u001b[38;5;241m=\u001b[39m\u001b[38;5;241m1\u001b[39m) \u001b[38;5;241m<\u001b[39m\u001b[38;5;241m=\u001b[39m F_max]\n\u001b[1;32m     60\u001b[0m fuel_consumption \u001b[38;5;241m=\u001b[39m gamma \u001b[38;5;241m*\u001b[39m cp\u001b[38;5;241m.\u001b[39msum(cp\u001b[38;5;241m.\u001b[39mnorm2(F, axis\u001b[38;5;241m=\u001b[39m\u001b[38;5;241m1\u001b[39m))\n\u001b[0;32m---> 62\u001b[0m problem \u001b[38;5;241m=\u001b[39m \u001b[43mcp\u001b[49m\u001b[38;5;241;43m.\u001b[39;49m\u001b[43mProblem\u001b[49m\u001b[43m(\u001b[49m\u001b[43mcp\u001b[49m\u001b[38;5;241;43m.\u001b[39;49m\u001b[43mMinimize\u001b[49m\u001b[43m(\u001b[49m\u001b[43mfuel_consumption\u001b[49m\u001b[43m)\u001b[49m\u001b[43m,\u001b[49m\u001b[43m \u001b[49m\u001b[43mconstraints\u001b[49m\u001b[43m)\u001b[49m\n\u001b[1;32m     63\u001b[0m problem\u001b[38;5;241m.\u001b[39msolve(\u001b[38;5;241m*\u001b[39m\u001b[38;5;241m*\u001b[39mkwargs)\n\u001b[1;32m     64\u001b[0m \u001b[38;5;28;01mreturn\u001b[39;00m P\u001b[38;5;241m.\u001b[39mvalue, F\u001b[38;5;241m.\u001b[39mvalue\n",
      "File \u001b[0;32m~/Library/Caches/pypoetry/virtualenvs/cvxkerb-kVStCEpW-py3.11/lib/python3.11/site-packages/cvxpy/problems/problem.py:159\u001b[0m, in \u001b[0;36mProblem.__init__\u001b[0;34m(self, objective, constraints)\u001b[0m\n\u001b[1;32m    156\u001b[0m \u001b[38;5;28;01mif\u001b[39;00m debug_tools\u001b[38;5;241m.\u001b[39mnode_count(\u001b[38;5;28mself\u001b[39m\u001b[38;5;241m.\u001b[39m_objective) \u001b[38;5;241m>\u001b[39m\u001b[38;5;241m=\u001b[39m debug_tools\u001b[38;5;241m.\u001b[39mMAX_NODES:\n\u001b[1;32m    157\u001b[0m     warnings\u001b[38;5;241m.\u001b[39mwarn(\u001b[38;5;124m\"\u001b[39m\u001b[38;5;124mObjective contains too many subexpressions. \u001b[39m\u001b[38;5;124m\"\u001b[39m\n\u001b[1;32m    158\u001b[0m                   \u001b[38;5;124m\"\u001b[39m\u001b[38;5;124mConsider vectorizing your CVXPY code to speed up compilation.\u001b[39m\u001b[38;5;124m\"\u001b[39m)\n\u001b[0;32m--> 159\u001b[0m \u001b[38;5;28mself\u001b[39m\u001b[38;5;241m.\u001b[39m_constraints \u001b[38;5;241m=\u001b[39m \u001b[43m[\u001b[49m\u001b[43m_validate_constraint\u001b[49m\u001b[43m(\u001b[49m\u001b[43mc\u001b[49m\u001b[43m)\u001b[49m\u001b[43m \u001b[49m\u001b[38;5;28;43;01mfor\u001b[39;49;00m\u001b[43m \u001b[49m\u001b[43mc\u001b[49m\u001b[43m \u001b[49m\u001b[38;5;129;43;01min\u001b[39;49;00m\u001b[43m \u001b[49m\u001b[43mconstraints\u001b[49m\u001b[43m]\u001b[49m\n\u001b[1;32m    160\u001b[0m \u001b[38;5;66;03m# Raise warning if constraint has too many subexpressions.\u001b[39;00m\n\u001b[1;32m    161\u001b[0m \u001b[38;5;28;01mfor\u001b[39;00m i, constraint \u001b[38;5;129;01min\u001b[39;00m \u001b[38;5;28menumerate\u001b[39m(\u001b[38;5;28mself\u001b[39m\u001b[38;5;241m.\u001b[39m_constraints):\n",
      "File \u001b[0;32m~/Library/Caches/pypoetry/virtualenvs/cvxkerb-kVStCEpW-py3.11/lib/python3.11/site-packages/cvxpy/problems/problem.py:159\u001b[0m, in \u001b[0;36m<listcomp>\u001b[0;34m(.0)\u001b[0m\n\u001b[1;32m    156\u001b[0m \u001b[38;5;28;01mif\u001b[39;00m debug_tools\u001b[38;5;241m.\u001b[39mnode_count(\u001b[38;5;28mself\u001b[39m\u001b[38;5;241m.\u001b[39m_objective) \u001b[38;5;241m>\u001b[39m\u001b[38;5;241m=\u001b[39m debug_tools\u001b[38;5;241m.\u001b[39mMAX_NODES:\n\u001b[1;32m    157\u001b[0m     warnings\u001b[38;5;241m.\u001b[39mwarn(\u001b[38;5;124m\"\u001b[39m\u001b[38;5;124mObjective contains too many subexpressions. \u001b[39m\u001b[38;5;124m\"\u001b[39m\n\u001b[1;32m    158\u001b[0m                   \u001b[38;5;124m\"\u001b[39m\u001b[38;5;124mConsider vectorizing your CVXPY code to speed up compilation.\u001b[39m\u001b[38;5;124m\"\u001b[39m)\n\u001b[0;32m--> 159\u001b[0m \u001b[38;5;28mself\u001b[39m\u001b[38;5;241m.\u001b[39m_constraints \u001b[38;5;241m=\u001b[39m [\u001b[43m_validate_constraint\u001b[49m\u001b[43m(\u001b[49m\u001b[43mc\u001b[49m\u001b[43m)\u001b[49m \u001b[38;5;28;01mfor\u001b[39;00m c \u001b[38;5;129;01min\u001b[39;00m constraints]\n\u001b[1;32m    160\u001b[0m \u001b[38;5;66;03m# Raise warning if constraint has too many subexpressions.\u001b[39;00m\n\u001b[1;32m    161\u001b[0m \u001b[38;5;28;01mfor\u001b[39;00m i, constraint \u001b[38;5;129;01min\u001b[39;00m \u001b[38;5;28menumerate\u001b[39m(\u001b[38;5;28mself\u001b[39m\u001b[38;5;241m.\u001b[39m_constraints):\n",
      "File \u001b[0;32m~/Library/Caches/pypoetry/virtualenvs/cvxkerb-kVStCEpW-py3.11/lib/python3.11/site-packages/cvxpy/problems/problem.py:124\u001b[0m, in \u001b[0;36m_validate_constraint\u001b[0;34m(constraint)\u001b[0m\n\u001b[1;32m    121\u001b[0m     \u001b[38;5;28;01mreturn\u001b[39;00m (Constant(\u001b[38;5;241m0\u001b[39m) \u001b[38;5;241m<\u001b[39m\u001b[38;5;241m=\u001b[39m Constant(\u001b[38;5;241m1\u001b[39m) \u001b[38;5;28;01mif\u001b[39;00m constraint \u001b[38;5;28;01melse\u001b[39;00m\n\u001b[1;32m    122\u001b[0m             Constant(\u001b[38;5;241m1\u001b[39m) \u001b[38;5;241m<\u001b[39m\u001b[38;5;241m=\u001b[39m Constant(\u001b[38;5;241m0\u001b[39m))\n\u001b[1;32m    123\u001b[0m \u001b[38;5;28;01melse\u001b[39;00m:\n\u001b[0;32m--> 124\u001b[0m     \u001b[38;5;28;01mraise\u001b[39;00m \u001b[38;5;167;01mValueError\u001b[39;00m(\u001b[38;5;124m\"\u001b[39m\u001b[38;5;124mProblem has an invalid constraint of type \u001b[39m\u001b[38;5;132;01m%s\u001b[39;00m\u001b[38;5;124m\"\u001b[39m \u001b[38;5;241m%\u001b[39m\n\u001b[1;32m    125\u001b[0m                      \u001b[38;5;28mtype\u001b[39m(constraint))\n",
      "\u001b[0;31mValueError\u001b[0m: Problem has an invalid constraint of type <class 'cvxpy.atoms.affine.binary_operators.DivExpression'>"
     ]
    }
   ],
   "source": [
    "P_star, F_star = optimize_fuel(\n",
    "    p_target, g, m, p0, v0, K, h, F_max, alpha, gamma\n",
    ")"
   ]
  },
  {
   "cell_type": "markdown",
   "metadata": {},
   "source": [
    "# Plot the trajectory"
   ]
  },
  {
   "cell_type": "code",
   "execution_count": null,
   "metadata": {},
   "outputs": [],
   "source": [
    "fig = plt.figure()\n",
    "ax = fig.add_subplot(projection=\"3d\")\n",
    "X = np.linspace(P_star[:, 0].min() - 10, P_star[:, 0].max() + 10, num=30)\n",
    "Y = np.linspace(P_star[:, 1].min() - 10, P_star[:, 1].max() + 10, num=30)\n",
    "X, Y = np.meshgrid(X, Y)\n",
    "Z = np.tan(alpha) * np.sqrt(X**2 + Y**2)\n",
    "ax.plot_surface(\n",
    "    X,\n",
    "    Y,\n",
    "    Z,\n",
    "    rstride=1,\n",
    "    cstride=1,\n",
    "    cmap=cm.autumn,\n",
    "    linewidth=0.1,\n",
    "    alpha=0.7,\n",
    "    edgecolors=\"k\",\n",
    ")\n",
    "ax = plt.gca()\n",
    "ax.view_init(azim=180)\n",
    "ax.plot(xs=P_star[:, 0], ys=P_star[:, 1], zs=P_star[:, 2], c=\"b\", lw=2, zorder=5)\n",
    "\n",
    "ax.quiver(\n",
    "    P_star[:-1, 0],\n",
    "    P_star[:-1, 1],\n",
    "    P_star[:-1, 2],\n",
    "    F_star[:, 0],\n",
    "    F_star[:, 1],\n",
    "    F_star[:, 2],\n",
    "    zorder=5,\n",
    "    color=\"black\",\n",
    "    length=2,\n",
    ")\n",
    "\n",
    "ax.set_xlabel(\"x\")\n",
    "ax.set_ylabel(\"y\")\n",
    "ax.set_zlabel(\"z\")\n",
    "plt.show()"
   ]
  },
  {
   "cell_type": "markdown",
   "metadata": {},
   "source": [
    "# Plot the Position, Velocity and Thrust over time"
   ]
  },
  {
   "cell_type": "code",
   "execution_count": null,
   "metadata": {},
   "outputs": [],
   "source": [
    "fig, ax = plt.subplots(3, 1, sharex=True)\n",
    "\n",
    "ax[0].plot(P_star[:, 0], label=\"x\")\n",
    "ax[0].plot(P_star[:, 1], label=\"y\")\n",
    "ax[0].plot(P_star[:, 2], label=\"z\")\n",
    "ax[0].set_ylabel(\"Position\")\n",
    "ax[0].legend()\n",
    "\n",
    "ax[1].plot(F_star[:, 0], label=\"x\")\n",
    "ax[1].plot(F_star[:, 1], label=\"y\")\n",
    "ax[1].plot(F_star[:, 2], label=\"z\")\n",
    "ax[1].set_ylabel(\"Thrust\")\n",
    "ax[1].legend()\n",
    "\n",
    "ax[2].plot(P_star[:, 0], label=\"x\")\n",
    "ax[2].plot(P_star[:, 1], label=\"y\")\n",
    "ax[2].plot(P_star[:, 2], label=\"z\")\n",
    "ax[2].set_ylabel(\"Velocity\")\n",
    "ax[2].legend()\n",
    "\n",
    "plt.show()"
   ]
  }
 ],
 "metadata": {
  "kernelspec": {
   "display_name": "Python 3 (ipykernel)",
   "language": "python",
   "name": "python3"
  },
  "language_info": {
   "codemirror_mode": {
    "name": "ipython",
    "version": 3
   },
   "file_extension": ".py",
   "mimetype": "text/x-python",
   "name": "python",
   "nbconvert_exporter": "python",
   "pygments_lexer": "ipython3",
   "version": "3.11.2"
  }
 },
 "nbformat": 4,
 "nbformat_minor": 4
}
